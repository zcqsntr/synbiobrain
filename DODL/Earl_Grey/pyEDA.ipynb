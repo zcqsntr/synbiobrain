{
 "cells": [
  {
   "cell_type": "code",
   "execution_count": 1,
   "metadata": {},
   "outputs": [],
   "source": [
    "from pyeda.inter import *\n",
    "import os\n",
    "import gvmagic\n"
   ]
  },
  {
   "cell_type": "code",
   "execution_count": 4,
   "metadata": {},
   "outputs": [
    {
     "name": "stdout",
     "output_type": "stream",
     "text": [
      "Or(And(a, b), And(a, c), And(b, c))\n"
     ]
    },
    {
     "data": {
      "text/plain": [
       "<pyeda.boolalg.bdd.BinaryDecisionDiagram at 0x7f95d0838810>"
      ]
     },
     "execution_count": 4,
     "metadata": {},
     "output_type": "execute_result"
    }
   ],
   "source": [
    "f = expr(\"a & b | a & c | b & c\")\n",
    "print(f)\n",
    "f = expr2bdd(f)\n",
    "f"
   ]
  },
  {
   "cell_type": "code",
   "execution_count": 5,
   "metadata": {},
   "outputs": [
    {
     "name": "stdout",
     "output_type": "stream",
     "text": [
      "Or(And(~b, c), And(a, b))\n",
      "<pyeda.boolalg.bdd.BinaryDecisionDiagram object at 0x7f95d085f150>\n"
     ]
    }
   ],
   "source": [
    "a, b, c = map(exprvar, 'abc')\n",
    "f1 = a & b & ~ c | ~a & ~b & c | a & ~b & c | a & b & c | a & b & ~c\n",
    "f1m = espresso_exprs(f1.to_dnf())[0]\n",
    "print(f1m)\n",
    "bdd = expr2bdd(f1)\n",
    "bddm = expr2bdd(f1m)\n",
    "print(bdd)\n",
    "\n"
   ]
  },
  {
   "cell_type": "code",
   "execution_count": 6,
   "metadata": {},
   "outputs": [
    {
     "name": "stdout",
     "output_type": "stream",
     "text": [
      "Or(And(a, c, d), And(b, c, d))\n",
      "<pyeda.boolalg.bdd.BinaryDecisionDiagram object at 0x7f95d085f290>\n"
     ]
    }
   ],
   "source": [
    "a, b, c, d = map(exprvar, 'abcd')\n",
    "f1 = (a |b) & (c&d)\n",
    "f1m = espresso_exprs(f1.to_dnf())[0]\n",
    "print(f1m)\n",
    "bdd = expr2bdd(f1)\n",
    "bddm = expr2bdd(f1m)\n",
    "print(bdd)"
   ]
  },
  {
   "cell_type": "code",
   "execution_count": 7,
   "metadata": {},
   "outputs": [
    {
     "name": "stdout",
     "output_type": "stream",
     "text": [
      "Or(And(~inputs[1], inputs[2]), And(inputs[0], inputs[1], ~inputs[2]))\n"
     ]
    }
   ],
   "source": [
    "# the genetic circuit design automation functions\n",
    "#0x1C\n",
    "inputs = ttvars('inputs', 3)\n",
    "\n",
    "f1 = truthtable(inputs, '00011100')\n",
    "f1m = espresso_tts(f1)[0]\n",
    "print(f1m)"
   ]
  },
  {
   "cell_type": "code",
   "execution_count": 8,
   "metadata": {},
   "outputs": [
    {
     "name": "stdout",
     "output_type": "stream",
     "text": [
      "Or(~inputs[2], And(inputs[0], ~inputs[1]), And(~inputs[0], inputs[1]))\n"
     ]
    }
   ],
   "source": [
    "#0xF6\n",
    "inputs = ttvars('inputs', 3)\n",
    "\n",
    "f1 = truthtable(inputs, '11110110')\n",
    "f1m = espresso_tts(f1)[0]\n",
    "print(f1m)"
   ]
  },
  {
   "cell_type": "code",
   "execution_count": 9,
   "metadata": {},
   "outputs": [
    {
     "name": "stdout",
     "output_type": "stream",
     "text": [
      "Or(And(inputs[0], inputs[1], inputs[2]), And(inputs[0], ~inputs[1], ~inputs[2]))\n"
     ]
    }
   ],
   "source": [
    "#0x41\n",
    "inputs = ttvars('inputs', 3)\n",
    "\n",
    "f1 = truthtable(inputs, '01000001')\n",
    "f1m = espresso_tts(f1)[0]\n",
    "print(f1m)"
   ]
  },
  {
   "cell_type": "code",
   "execution_count": 10,
   "metadata": {},
   "outputs": [
    {
     "name": "stdout",
     "output_type": "stream",
     "text": [
      "Or(And(inputs[0], ~inputs[1]), And(inputs[0], inputs[2]), And(~inputs[1], inputs[2]))\n"
     ]
    }
   ],
   "source": [
    "#0x4D\n",
    "inputs = ttvars('inputs', 3)\n",
    "\n",
    "f1 = truthtable(inputs, '01001101')\n",
    "f1m = espresso_tts(f1)[0]\n",
    "print(f1m)"
   ]
  },
  {
   "cell_type": "code",
   "execution_count": 11,
   "metadata": {},
   "outputs": [
    {
     "name": "stdout",
     "output_type": "stream",
     "text": [
      "Or(~inputs[1], And(inputs[0], inputs[2]))\n"
     ]
    }
   ],
   "source": [
    "#0xcd\n",
    "inputs = ttvars('inputs', 3)\n",
    "\n",
    "f1 = truthtable(inputs, '11001101')\n",
    "f1m = espresso_tts(f1)[0]\n",
    "print(f1m)"
   ]
  },
  {
   "cell_type": "code",
   "execution_count": 12,
   "metadata": {},
   "outputs": [
    {
     "name": "stdout",
     "output_type": "stream",
     "text": [
      "inputs[0]\n"
     ]
    }
   ],
   "source": [
    "\n",
    "inputs = ttvars('inputs', 3)\n",
    "\n",
    "f1 = truthtable(inputs, '01010101')\n",
    "f1m = espresso_tts(f1)[0]\n",
    "print(f1m)"
   ]
  },
  {
   "cell_type": "code",
   "execution_count": 13,
   "metadata": {},
   "outputs": [
    {
     "name": "stdout",
     "output_type": "stream",
     "text": [
      "x[1]\n",
      "And(~x[0], ~x[1], x[2])\n",
      "And(x[0], ~x[1])\n"
     ]
    }
   ],
   "source": [
    "#priority detector\n",
    "X = ttvars('x', 3)\n",
    "z = truthtable(X, \"00110011\")\n",
    "y = truthtable(X, \"00001000\")\n",
    "x = truthtable(X, \"01000100\")\n",
    "zm,ym,xm = espresso_tts(z, y,x)\n",
    "print(zm)\n",
    "print(ym)\n",
    "print(xm)"
   ]
  },
  {
   "cell_type": "code",
   "execution_count": 14,
   "metadata": {},
   "outputs": [
    {
     "name": "stdout",
     "output_type": "stream",
     "text": [
      "Or(~inputs[0], And(~inputs[1], inputs[2]))\n"
     ]
    }
   ],
   "source": [
    "inputs = ttvars('inputs', 3)\n",
    "\n",
    "f1 = truthtable(inputs, '10101110')\n",
    "f1m = espresso_tts(f1)[0]\n",
    "print(f1m)"
   ]
  },
  {
   "cell_type": "code",
   "execution_count": null,
   "metadata": {},
   "outputs": [],
   "source": []
  },
  {
   "cell_type": "code",
   "execution_count": 18,
   "metadata": {},
   "outputs": [
    {
     "name": "stdout",
     "output_type": "stream",
     "text": [
      "Or(~inputs[0], And(~inputs[1], inputs[2]))\n"
     ]
    }
   ],
   "source": [
    "inputs = ttvars('inputs', 3)\n",
    "\n",
    "f1 = truthtable(inputs, '10101110')\n",
    "f1m = espresso_tts(f1)[0]\n",
    "print(f1m)"
   ]
  },
  {
   "cell_type": "code",
   "execution_count": 7,
   "metadata": {},
   "outputs": [
    {
     "name": "stdout",
     "output_type": "stream",
     "text": [
      "Or(And(inputs[0], ~inputs[1]), And(inputs[0], inputs[2]), And(~inputs[1], inputs[2]))\n"
     ]
    }
   ],
   "source": [
    "inputs = ttvars('inputs', 3)\n",
    "\n",
    "f1 = truthtable(inputs, '01001101')\n",
    "f1m = espresso_tts(f1)[0]\n",
    "print(f1m)"
   ]
  },
  {
   "cell_type": "code",
   "execution_count": null,
   "metadata": {},
   "outputs": [],
   "source": []
  }
 ],
 "metadata": {
  "kernelspec": {
   "display_name": "Python 3 (ipykernel)",
   "language": "python",
   "name": "python3"
  },
  "language_info": {
   "codemirror_mode": {
    "name": "ipython",
    "version": 3
   },
   "file_extension": ".py",
   "mimetype": "text/x-python",
   "name": "python",
   "nbconvert_exporter": "python",
   "pygments_lexer": "ipython3",
   "version": "3.7.11"
  }
 },
 "nbformat": 4,
 "nbformat_minor": 2
}
